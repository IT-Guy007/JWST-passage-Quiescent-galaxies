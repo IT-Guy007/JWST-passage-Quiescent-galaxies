{
 "cells": [
  {
   "cell_type": "code",
   "id": "initial_id",
   "metadata": {
    "collapsed": true
   },
   "source": [
    "import os\n",
    "import pandas as pd\n",
    "import matplotlib.pyplot as plt\n",
    "import seaborn as sns"
   ],
   "outputs": [],
   "execution_count": null
  },
  {
   "metadata": {},
   "cell_type": "code",
   "source": [
    "project_directory = os.path.dirname(os.getcwd())\n",
    "data = pd.read_csv(os.path.join(project_directory, \"predictions.csv\"))\n",
    "converted_folder_name = \"converted\"\n",
    "data_directory = os.path.join(project_directory, \"data\")\n",
    "converted_directory = os.path.join(data_directory, converted_folder_name)"
   ],
   "id": "375694becb30e26d",
   "outputs": [],
   "execution_count": null
  },
  {
   "metadata": {},
   "cell_type": "markdown",
   "source": "Histogram",
   "id": "4892398e07459fb"
  },
  {
   "metadata": {},
   "cell_type": "code",
   "source": [
    "fig, axes = plt.subplots(nrows=1, ncols=2, figsize=(16, 6))\n",
    "\n",
    "sns.histplot((data[data['One_one_accuracy'] > 0.8])['One_one_accuracy'], bins=20, kde=True, ax=axes[0])\n",
    "axes[0].set_title('Distribution of One_one_accuracy (above 80%)')\n",
    "axes[0].set_xlabel('Accuracy')\n",
    "axes[0].set_ylabel('Count')\n",
    "\n",
    "sns.histplot((data[data['One_two_accuracy'] > 0.8])['One_two_accuracy'], bins=20, kde=True, ax=axes[1])\n",
    "axes[1].set_title('Distribution of One_two_accuracy (above 80%)')\n",
    "axes[1].set_xlabel('Accuracy')\n",
    "axes[1].set_ylabel('Count')\n",
    "\n",
    "plt.tight_layout()\n",
    "plt.show()"
   ],
   "id": "88830f9b43f4d6ba",
   "outputs": [],
   "execution_count": null
  },
  {
   "metadata": {},
   "cell_type": "markdown",
   "source": "",
   "id": "644cf61ede940799"
  },
  {
   "metadata": {},
   "cell_type": "code",
   "source": [
    "top_one_one = data.sort_values(by='One_one_accuracy', ascending=False).head(24)\n",
    "\n",
    "fig, axes = plt.subplots(nrows=4, ncols=6, figsize=(18, 12))\n",
    "for i, (index, row) in enumerate(top_one_one.iterrows()):\n",
    "    img = plt.imread(os.path.join(converted_directory, row['Filename']))\n",
    "    axes[i // 6, i % 6].imshow(img)\n",
    "    axes[i // 6, i % 6].set_title(f\"{row['Filename']} - {row['One_one_accuracy']:.4f}\")\n",
    "    axes[i // 6, i % 6].axis('off')\n",
    "\n",
    "plt.tight_layout()\n",
    "plt.show()"
   ],
   "id": "a4eca64149c5890e",
   "outputs": [],
   "execution_count": null
  },
  {
   "metadata": {},
   "cell_type": "code",
   "source": [
    "top_one_two = data.sort_values(by='One_two_accuracy', ascending=False).head(24)\n",
    "\n",
    "fig, axes = plt.subplots(nrows=4, ncols=6, figsize=(18, 12))\n",
    "for i, (index, row) in enumerate(top_one_two.iterrows()):\n",
    "    img = plt.imread(os.path.join(converted_directory, row['Filename']))\n",
    "    axes[i // 6, (i % 6)].imshow(img)\n",
    "    axes[i // 6, (i % 6)].set_title(f\"{row['Filename']} - {row['One_two_accuracy']:.4f}\")\n",
    "    axes[i // 6, (i % 6)].axis('off')\n",
    "        \n",
    "plt.tight_layout()\n",
    "plt.show()"
   ],
   "id": "9d9d30f8cd64081d",
   "outputs": [],
   "execution_count": null
  }
 ],
 "metadata": {
  "kernelspec": {
   "display_name": "Python 3",
   "language": "python",
   "name": "python3"
  },
  "language_info": {
   "codemirror_mode": {
    "name": "ipython",
    "version": 2
   },
   "file_extension": ".py",
   "mimetype": "text/x-python",
   "name": "python",
   "nbconvert_exporter": "python",
   "pygments_lexer": "ipython2",
   "version": "2.7.6"
  }
 },
 "nbformat": 4,
 "nbformat_minor": 5
}
