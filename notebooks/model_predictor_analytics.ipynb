{
 "cells": [
  {
   "cell_type": "code",
   "id": "initial_id",
   "metadata": {
    "collapsed": true
   },
   "source": [
    "import os\n",
    "import pandas as pd\n",
    "import matplotlib.pyplot as plt\n",
    "import seaborn as sns"
   ],
   "outputs": [],
   "execution_count": null
  },
  {
   "metadata": {},
   "cell_type": "code",
   "source": [
    "project_directory = os.path.dirname(os.getcwd())\n",
    "data = pd.read_csv(os.path.join(project_directory, \"predictions.csv\"))\n",
    "converted_folder_name = \"converted\"\n",
    "data_directory = os.path.join(project_directory, \"data\")\n",
    "converted_directory = os.path.join(data_directory, converted_folder_name)\n",
    "\n",
    "# Filter out images with less than 50 non-zero pixels and lower than 3500 pixels\n",
    "data = data[(data['NonZeroPixels'] > 50) & (data['NonZeroPixels'] < 3500)]"
   ],
   "id": "375694becb30e26d",
   "outputs": [],
   "execution_count": null
  },
  {
   "metadata": {},
   "cell_type": "markdown",
   "source": "Histogram",
   "id": "4892398e07459fb"
  },
  {
   "metadata": {},
   "cell_type": "code",
   "source": [
    "def plot_class_distribution(data, class_name, ax, accuracy_threshold=0.6):\n",
    "    filtered_data = data[(data['NonZeroPixels'] > 80) & (data['NonZeroPixels'] < 3500) & (data[class_name] >= accuracy_threshold)]\n",
    "    \n",
    "    sns.histplot(filtered_data[class_name], bins=20, kde=True, ax=ax)\n",
    "    ax.set_title(f'Distribution of {class_name} (Accuracy >= {accuracy_threshold})')\n",
    "    ax.set_xlabel('Accuracy')\n",
    "    ax.set_ylabel('Count')\n",
    "    ax.set_xlim(0, 1)\n",
    "\n",
    "# Load the data\n",
    "project_directory = os.path.dirname(os.getcwd())\n",
    "data = pd.read_csv(os.path.join(project_directory, \"predictions.csv\"))\n",
    "\n",
    "# Get the list of class columns dynamically\n",
    "class_columns = [col for col in data.columns if col not in ['Filename', 'NonZeroPixels', 'Loss']]\n",
    "\n",
    "# Create a single plot with multiple subplots stacked horizontally with a maximum of 3 subplots per row\n",
    "num_plots = len(class_columns)\n",
    "num_rows = (num_plots // 3) + (1 if num_plots % 3 != 0 else 0)\n",
    "fig, axes = plt.subplots(nrows=num_rows, ncols=min(num_plots, 3), figsize=(18, 6*num_rows))\n",
    "\n",
    "for i, class_name in enumerate(class_columns):\n",
    "    plot_class_distribution(data, class_name, ax=axes[i // 3, i % 3], accuracy_threshold=0.6)\n",
    "\n",
    "plt.tight_layout()\n",
    "plt.show()"
   ],
   "id": "88830f9b43f4d6ba",
   "outputs": [],
   "execution_count": null
  },
  {
   "metadata": {},
   "cell_type": "markdown",
   "source": "",
   "id": "644cf61ede940799"
  },
  {
   "metadata": {},
   "cell_type": "code",
   "source": [
    "def plot_top_images(data, class_name, converted_directory, num_images=25):\n",
    "    top_images = data.sort_values(by=class_name, ascending=False).head(num_images)\n",
    "\n",
    "    fig, axes = plt.subplots(nrows=5, ncols=5, figsize=(14, 12))\n",
    "    for i, (index, row) in enumerate(top_images.iterrows()):\n",
    "        img = plt.imread(os.path.join(converted_directory, row['Filename']))\n",
    "        axes[i // 5, i % 5].imshow(img)\n",
    "        axes[i // 5, i % 5].set_title(f\"{row['Filename']} - {row[class_name]:.4f}\")\n",
    "        axes[i // 5, i % 5].axis('off')\n",
    "\n",
    "    plt.tight_layout()\n",
    "    plt.show()"
   ],
   "id": "4e5bb3e3d5a9ebeb",
   "outputs": [],
   "execution_count": null
  },
  {
   "metadata": {},
   "cell_type": "code",
   "source": "plot_top_images(data, 'Class8.1_accuracy', converted_directory, num_images=25)",
   "id": "385aba3dee2a837a",
   "outputs": [],
   "execution_count": null
  }
 ],
 "metadata": {
  "kernelspec": {
   "display_name": "Python 3",
   "language": "python",
   "name": "python3"
  },
  "language_info": {
   "codemirror_mode": {
    "name": "ipython",
    "version": 2
   },
   "file_extension": ".py",
   "mimetype": "text/x-python",
   "name": "python",
   "nbconvert_exporter": "python",
   "pygments_lexer": "ipython2",
   "version": "2.7.6"
  }
 },
 "nbformat": 4,
 "nbformat_minor": 5
}
