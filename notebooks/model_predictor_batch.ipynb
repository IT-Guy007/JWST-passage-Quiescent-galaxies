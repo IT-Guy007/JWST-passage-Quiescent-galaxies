{
 "cells": [
  {
   "cell_type": "code",
   "id": "initial_id",
   "metadata": {
    "collapsed": true
   },
   "source": [
    "import os\n",
    "import tensorflow as tf\n",
    "import astropy.io.fits as fits\n",
    "import numpy as np\n",
    "from concurrent.futures import ThreadPoolExecutor\n",
    "from tqdm import tqdm\n",
    "import matplotlib.pyplot as plt\n",
    "import cv2"
   ],
   "outputs": [],
   "execution_count": null
  },
  {
   "metadata": {},
   "cell_type": "markdown",
   "source": "Constants defined on project level, change these to match your project in each notebook",
   "id": "d6856fce2fe0abce"
  },
  {
   "metadata": {},
   "cell_type": "code",
   "source": [
    "project_directory = os.path.dirname(os.getcwd())\n",
    "data_directory = os.path.join(project_directory, \"data\")\n",
    "dataset_directory = os.path.join(project_directory, \"tf_data\")\n",
    "model_directory = os.path.join(project_directory, \"models\")\n",
    "converted_folder_name = \"converted\"\n",
    "converted_directory = os.path.join(data_directory, converted_folder_name)\n",
    "\n",
    "img_height = 200\n",
    "img_width = 200\n",
    "batch_size = 32\n",
    "\n",
    "model_name = \"model_v1\" # Change this\n",
    "directory_to_process = \"\" # Change this\n",
    "model = tf.keras.models.load_model(os.path.join(model_directory, f'{model_name}.keras'))\n",
    "class_names = sorted([name for name in os.listdir(dataset_directory) if os.path.isdir(os.path.join(dataset_directory, name))])"
   ],
   "id": "4af34cf4b1b4af52",
   "outputs": [],
   "execution_count": null
  },
  {
   "metadata": {},
   "cell_type": "markdown",
   "source": "Function to process a single fits file and save it as a png",
   "id": "3d43f196335f6887"
  },
  {
   "metadata": {},
   "cell_type": "code",
   "source": [
    "def process_fits_file(path):\n",
    "    raw_data = fits.open(path)\n",
    "    \n",
    "    data, header = raw_data[0].data, raw_data[0].header\n",
    "    # normalizing the data\n",
    "    data[data <= 0] = 1e-9\n",
    "    data = np.log10(data)\n",
    "    data_norm = (data - np.min(data)) / (np.max(data) - np.min(data))\n",
    "    data_resized = cv2.resize(data_norm, (200,200))\n",
    "    \n",
    "    converted_path = str(os.path.join(converted_directory, os.path.basename(path).replace(\".fits\", \".png\")))\n",
    "    plt.imsave(converted_path, data_resized, cmap=\"gray\")\n",
    "    \n",
    "    raw_data.close()"
   ],
   "id": "9e24ceadc1c3be2c",
   "outputs": [],
   "execution_count": null
  },
  {
   "metadata": {},
   "cell_type": "code",
   "source": [
    "def process_fits_map_file(path):\n",
    "    filename = os.path.basename(path)\n",
    "    seg_id = int(filename.split('_')[1].split('.')[0])\n",
    "    \n",
    "    raw_data = fits.open(path)\n",
    "    science, segmentation = raw_data[\"DSCI\"].data, raw_data[\"SEG\"].data\n",
    "\n",
    "    science[np.where(segmentation != seg_id)] = 0\n",
    "    science = np.log10(science + 1)\n",
    "    \n",
    "    raw_data.close()\n",
    "    # non_zero_pixels = len(science[np.where(science > 0)])  # Count non-zero pixels\n",
    "    converted_path = os.path.join(converted_directory, f\"{seg_id}.png\")\n",
    "    plt.imsave(converted_path, science, cmap=\"gray\")"
   ],
   "id": "8a40a9df46e3a596",
   "outputs": [],
   "execution_count": null
  },
  {
   "metadata": {},
   "cell_type": "markdown",
   "source": "Process all fits files in a directory",
   "id": "d61a6edfa6840c6b"
  },
  {
   "metadata": {},
   "cell_type": "code",
   "source": [
    "try:\n",
    "    os.removedirs(os.path.join(data_directory, converted_folder_name))\n",
    "except Exception:\n",
    "    pass\n",
    "os.makedirs(os.path.join(data_directory, converted_folder_name), exist_ok=True)\n",
    "\n",
    "images_to_process = [os.path.join(directory_to_process, filename) for filename in os.listdir(directory_to_process) if filename.endswith(\".fits\")]\n",
    "total_images = len(images_to_process)\n",
    "\n",
    "with ThreadPoolExecutor() as executor:\n",
    "    futures = [executor.submit(process_fits_map_file, path) for path in images_to_process] # Change this to process_fits_file to process fits, not maps\n",
    "    for future in tqdm(futures, total=total_images, desc='Setting up dataset'):\n",
    "        future.result()\n",
    "    print(f'Finished setting up dataset in {converted_folder_name}')"
   ],
   "id": "7e98beb70d7beb31",
   "outputs": [],
   "execution_count": null
  },
  {
   "metadata": {},
   "cell_type": "markdown",
   "source": "Predict all images in the converted folder and save result with accuracy to a csv file",
   "id": "118e21dec7e6d391"
  },
  {
   "metadata": {},
   "cell_type": "code",
   "source": [
    "converted_images_filepaths = [os.path.join(converted_directory, file) for file in os.listdir(converted_directory) if file.endswith(('png'))]\n",
    "converted_images_filepaths.sort()\n",
    "\n",
    "images = []\n",
    "for file in converted_images_filepaths:\n",
    "    images.append(cv2.imread(file, cv2.IMREAD_GRAYSCALE))\n",
    "    \n",
    "images = np.array(images)\n",
    "predictions = model.predict(images)\n",
    "\n",
    "csv_path = os.path.join(project_directory, \"predictions.csv\")\n",
    "with open(csv_path, 'w') as csv_file:\n",
    "    csv_file.write(\"Filename,\" + \",\".join([f\"{name.capitalize()}_accuracy\" for name in class_names]) + \",Loss\\n\")\n",
    "    \n",
    "    # Iterate over the filenames and predictions\n",
    "    for i in range(len(converted_images_filepaths)):\n",
    "        image_name = os.path.basename(converted_images_filepaths[i])\n",
    "        predicted_class = np.argmax(predictions[i])\n",
    "        confidence = np.max(predictions[i])\n",
    "        predicted_label = class_names[predicted_class]\n",
    "\n",
    "        row = f\"{image_name},{','.join(map(str, predictions[i]))}\\n\"\n",
    "        csv_file.write(row)\n",
    "\n",
    "print(f\"Predictions saved to {csv_path}\")"
   ],
   "id": "d9e15e97144f8ff4",
   "outputs": [],
   "execution_count": null
  }
 ],
 "metadata": {
  "kernelspec": {
   "display_name": "Python 3",
   "language": "python",
   "name": "python3"
  },
  "language_info": {
   "codemirror_mode": {
    "name": "ipython",
    "version": 2
   },
   "file_extension": ".py",
   "mimetype": "text/x-python",
   "name": "python",
   "nbconvert_exporter": "python",
   "pygments_lexer": "ipython2",
   "version": "2.7.6"
  }
 },
 "nbformat": 4,
 "nbformat_minor": 5
}
