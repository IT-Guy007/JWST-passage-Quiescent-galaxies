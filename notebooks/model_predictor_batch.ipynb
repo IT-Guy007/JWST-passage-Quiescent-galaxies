{
 "cells": [
  {
   "metadata": {},
   "cell_type": "code",
   "source": [
    "import os\n",
    "import tensorflow as tf\n",
    "import astropy.io.fits as fits\n",
    "import numpy as np\n",
    "from concurrent.futures import ThreadPoolExecutor\n",
    "from tqdm import tqdm\n",
    "import matplotlib.pyplot as plt\n",
    "import cv2\n",
    "import shutil"
   ],
   "id": "abe71db8d84a3241",
   "outputs": [],
   "execution_count": null
  },
  {
   "metadata": {},
   "cell_type": "markdown",
   "source": "Constants defined on project level, change these to match your project in each notebook",
   "id": "3cecbcfb66a21c7d"
  },
  {
   "metadata": {},
   "cell_type": "code",
   "source": [
    "project_directory = os.path.dirname(os.getcwd())\n",
    "data_directory = os.path.join(project_directory, \"data\")\n",
    "dataset_directory = os.path.join(project_directory, \"tf_data\")\n",
    "model_directory = os.path.join(project_directory, \"models\")\n",
    "converted_folder_name = \"converted\"\n",
    "converted_directory = os.path.join(data_directory, converted_folder_name)\n",
    "\n",
    "img_height = 200\n",
    "img_width = 200\n",
    "batch_size = 32\n",
    "\n",
    "model_name = \"model_v1\" # Change this\n",
    "directory_to_process = \"\" # Change this\n",
    "model = tf.keras.models.load_model(os.path.join(model_directory, f'{model_name}.keras'))\n",
    "class_names = sorted([name for name in os.listdir(dataset_directory) if os.path.isdir(os.path.join(dataset_directory, name))])"
   ],
   "id": "8f712d64ba36c83e",
   "outputs": [],
   "execution_count": null
  },
  {
   "metadata": {},
   "cell_type": "markdown",
   "source": "Function to process a single fits file and save it as a png",
   "id": "8ada0280721541a9"
  },
  {
   "metadata": {},
   "cell_type": "code",
   "source": [
    "def alter_image(data, low=2e-3, high=1):\n",
    "    \n",
    "  data = np.log10(data + 1)\n",
    "  data_min, data_max = np.min(data), np.max(data)\n",
    "  data = (data - data_min) / (data_max - data_min)\n",
    "  data = data * (high - low) + low\n",
    "  \n",
    "  data = np.clip(data, low, high)\n",
    "\n",
    "  return data"
   ],
   "id": "1475fd9632426ef4",
   "outputs": [],
   "execution_count": null
  },
  {
   "metadata": {},
   "cell_type": "code",
   "source": [
    "def process_fits_file(path):\n",
    "    raw_data = fits.open(path)\n",
    "    \n",
    "    data, header = raw_data[0].data, raw_data[0].header\n",
    "    # normalizing the data\n",
    "    data[data <= 0] = 1e-9\n",
    "    data = np.log10(data)\n",
    "    data_norm = (data - np.min(data)) / (np.max(data) - np.min(data))\n",
    "    data_resized = cv2.resize(data_norm, (200,200))\n",
    "    \n",
    "    converted_path = str(os.path.join(converted_directory, str(os.path.basename(path).replace(\".fits\", \".png\"))))\n",
    "    plt.imsave(converted_path, data_resized, cmap=\"gray\")\n",
    "    \n",
    "    raw_data.close()"
   ],
   "id": "2941c279b15e556c",
   "outputs": [],
   "execution_count": null
  },
  {
   "metadata": {},
   "cell_type": "code",
   "source": [
    "def process_fits_map_file(path):\n",
    "    filename = os.path.basename(path)\n",
    "    seg_id = int(filename.split('_')[1].split('.')[0])\n",
    "    raw_data = fits.open(path)\n",
    "    \n",
    "    science = raw_data[\"DSCI\"].data\n",
    "    segmentation = raw_data[\"SEG\"].data\n",
    "    \n",
    "    science[np.where(segmentation != seg_id)] = 0\n",
    "    science = alter_image(science)\n",
    "    \n",
    "    raw_data.close()\n",
    "    converted_path = os.path.join(converted_directory, f\"{seg_id}.png\")\n",
    "    plt.imsave(converted_path, science, cmap=\"gray\")\n",
    "    return {\n",
    "        \"filename\": filename,\n",
    "        \"non_zero_pixels\": len(science[np.where(science > 0.5)])\n",
    "        # todo: add pixel value of the center of the segmentation\n",
    "    }"
   ],
   "id": "121babafaaf17470",
   "outputs": [],
   "execution_count": null
  },
  {
   "metadata": {},
   "cell_type": "markdown",
   "source": "Process all fits files in a directory",
   "id": "c642521ba3fc2823"
  },
  {
   "metadata": {},
   "cell_type": "code",
   "source": [
    "try:\n",
    "    shutil.rmtree(os.path.join(data_directory, converted_folder_name))\n",
    "except FileNotFoundError:\n",
    "    pass\n",
    "except Exception as e:\n",
    "    print(f\"An error occurred while trying to remove the directory: {e}\")\n",
    "os.makedirs(os.path.join(data_directory, converted_folder_name))\n",
    "\n",
    "images_to_process = [os.path.join(directory_to_process, filename) for filename in os.listdir(directory_to_process) if filename.endswith(\".fits\")]\n",
    "total_images = len(images_to_process)\n",
    "file_info_list = []\n",
    "\n",
    "with ThreadPoolExecutor() as executor:\n",
    "    futures = [executor.submit(process_fits_map_file, path) for path in images_to_process]\n",
    "    for future in tqdm(futures, total=total_images, desc='Setting up dataset'):\n",
    "        result = future.result()\n",
    "        file_info_list.append(result)\n",
    "    print(f'Finished setting up dataset in {converted_folder_name}')"
   ],
   "id": "c9341c04b2310106",
   "outputs": [],
   "execution_count": null
  },
  {
   "metadata": {},
   "cell_type": "markdown",
   "source": "Predict all images in the converted folder and save result with accuracy to a csv file",
   "id": "118e21dec7e6d391"
  },
  {
   "metadata": {},
   "cell_type": "code",
   "source": [
    "converted_images_filepaths = [os.path.join(converted_directory, file) for file in os.listdir(converted_directory) if file.endswith(('png'))]\n",
    "converted_images_filepaths.sort()\n",
    "\n",
    "images = []\n",
    "for file in converted_images_filepaths:\n",
    "    images.append(cv2.imread(file, cv2.IMREAD_GRAYSCALE)) # Use cv2.IMREAD_COLOR to read in RGB format if model has 3 channel input\n",
    "    \n",
    "images = np.array(images)\n",
    "predictions = model.predict(images)\n",
    "# todo: add n amount of pixels in seg\n",
    "csv_path = os.path.join(project_directory, \"predictions.csv\")\n",
    "with open(csv_path, 'w') as csv_file:\n",
    "    csv_file.write(\"Filename,NonZeroPixels,\" + \",\".join([f\"{name.capitalize()}_accuracy\" for name in class_names]) + \",Loss\\n\")\n",
    "    \n",
    "    # Iterate over the filenames and predictions\n",
    "    for i in range(len(converted_images_filepaths)):\n",
    "        image_name = os.path.basename(converted_images_filepaths[i])\n",
    "        non_zero_pixels = file_info_list[i]['non_zero_pixels']\n",
    "        predicted_class = np.argmax(predictions[i])\n",
    "        confidence = np.max(predictions[i])\n",
    "        predicted_label = class_names[predicted_class]\n",
    "\n",
    "        row = f\"{image_name},{non_zero_pixels},{','.join(map(str, predictions[i]))}\\n\"\n",
    "        csv_file.write(row)\n",
    "\n",
    "print(f\"Predictions saved to {csv_path}\")"
   ],
   "id": "d9e15e97144f8ff4",
   "outputs": [],
   "execution_count": null
  }
 ],
 "metadata": {
  "kernelspec": {
   "display_name": "Python 3",
   "language": "python",
   "name": "python3"
  },
  "language_info": {
   "codemirror_mode": {
    "name": "ipython",
    "version": 2
   },
   "file_extension": ".py",
   "mimetype": "text/x-python",
   "name": "python",
   "nbconvert_exporter": "python",
   "pygments_lexer": "ipython2",
   "version": "2.7.6"
  }
 },
 "nbformat": 4,
 "nbformat_minor": 5
}
