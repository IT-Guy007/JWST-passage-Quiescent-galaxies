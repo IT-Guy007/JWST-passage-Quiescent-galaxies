{
 "cells": [
  {
   "cell_type": "code",
   "id": "initial_id",
   "metadata": {
    "collapsed": true
   },
   "source": [
    "import os\n",
    "import tensorflow as tf\n",
    "import astropy.io.fits as fits\n",
    "import numpy as np\n",
    "from concurrent.futures import ThreadPoolExecutor\n",
    "from tqdm import tqdm\n",
    "import matplotlib.pyplot as plt"
   ],
   "outputs": [],
   "execution_count": null
  },
  {
   "metadata": {},
   "cell_type": "markdown",
   "source": "Constants defined on project level, change these to match your project in each notebook",
   "id": "d6856fce2fe0abce"
  },
  {
   "metadata": {},
   "cell_type": "code",
   "source": [
    "project_directory = os.path.dirname(os.getcwd())\n",
    "data_directory = os.path.join(project_directory, \"data\")\n",
    "dataset_directory = os.path.join(project_directory, \"tf_data\")\n",
    "model_directory = os.path.join(project_directory, \"models\")\n",
    "converted_folder_name = \"converted\"\n",
    "\n",
    "model_name = \"model_v2\" # Change this\n",
    "directory_to_process = \"/Users/jeroendenotter/Library/CloudStorage/OneDrive-SharedLibraries-MinnesotaState/Rutkowski, Michael J - PASSAGE/maps\" # Change this\n",
    "model = tf.keras.models.load_model(os.path.join(model_directory, f'{model_name}.keras'))\n",
    "class_names = sorted([name for name in os.listdir(dataset_directory) if os.path.isdir(os.path.join(dataset_directory, name))])"
   ],
   "id": "4af34cf4b1b4af52",
   "outputs": [],
   "execution_count": null
  },
  {
   "metadata": {},
   "cell_type": "markdown",
   "source": "Function to process a single fits file and save it as a png",
   "id": "3d43f196335f6887"
  },
  {
   "metadata": {},
   "cell_type": "code",
   "source": [
    "def process_fits_file(path):\n",
    "    filename = os.path.basename(path)\n",
    "    seg_id = int(filename.split('_')[1].split('.')[0])\n",
    "    \n",
    "    raw_data = fits.open(path)\n",
    "    science, segmentation = raw_data[\"DSCI\"].data, raw_data[\"SEG\"].data\n",
    "\n",
    "    science[np.where(segmentation != seg_id)] = 0\n",
    "    science = np.log10(science + 1)\n",
    "    \n",
    "    raw_data.close()\n",
    "    # non_zero_pixels = len(science[np.where(science > 0)])  # Count non-zero pixels\n",
    "    converted_path = os.path.join(data_directory, converted_folder_name, f\"{seg_id}.png\")\n",
    "    plt.imsave(converted_path, science, cmap=\"gray\")"
   ],
   "id": "8a40a9df46e3a596",
   "outputs": [],
   "execution_count": null
  },
  {
   "metadata": {},
   "cell_type": "markdown",
   "source": "Process all fits files in a directory",
   "id": "d61a6edfa6840c6b"
  },
  {
   "metadata": {},
   "cell_type": "code",
   "source": [
    "try:\n",
    "    os.removedirs(os.path.join(data_directory, converted_folder_name))\n",
    "except Exception:\n",
    "    pass\n",
    "os.makedirs(os.path.join(data_directory, converted_folder_name), exist_ok=True)\n",
    "\n",
    "images_to_process = [os.path.join(directory_to_process, filename) for filename in os.listdir(directory_to_process) if filename.endswith(\".fits\")]\n",
    "total_images = len(images_to_process)\n",
    "\n",
    "with ThreadPoolExecutor() as executor:\n",
    "    futures = [executor.submit(process_fits_file, path) for path in images_to_process]\n",
    "    for future in tqdm(futures, total=total_images, desc='Setting up dataset'):\n",
    "        future.result()\n",
    "    print(f'Finished setting up dataset in {converted_folder_name}')"
   ],
   "id": "7e98beb70d7beb31",
   "outputs": [],
   "execution_count": null
  },
  {
   "metadata": {},
   "cell_type": "markdown",
   "source": "Function to predict n images at a time",
   "id": "8660b6f9798e0a22"
  },
  {
   "metadata": {},
   "cell_type": "code",
   "source": [
    "def extract_channel(image, channel=0):\n",
    "    return image[:, :, channel:channel+1]\n",
    "\n",
    "def predict_batch(images, channel=0):\n",
    "    images = np.array([extract_channel(image, channel) for image in images])\n",
    "    images = tf.convert_to_tensor(images, dtype=tf.float32)    \n",
    "    predictions = model.predict(images)\n",
    "    return predictions"
   ],
   "id": "11f4e85454672e53",
   "outputs": [],
   "execution_count": null
  },
  {
   "metadata": {},
   "cell_type": "markdown",
   "source": "Predict all images in the converted folder and save result with accuracy to a csv file",
   "id": "118e21dec7e6d391"
  },
  {
   "metadata": {},
   "cell_type": "code",
   "source": [
    "converted_images = [os.path.join(data_directory, converted_folder_name, filename) for filename in os.listdir(os.path.join(data_directory, converted_folder_name)) if filename.endswith(\".png\")]\n",
    "total_images = len(converted_images)    \n",
    "predictions = predict_batch(([plt.imread(image) for image in converted_images]))\n",
    "\n",
    "csv_path = os.path.join(project_directory, \"predictions.csv\")\n",
    "with open(csv_path, 'w') as csv_file:\n",
    "    csv_file.write(\"Filename,\" + \",\".join([f\"{name.capitalize()}_accuracy\" for name in class_names]) + \",Loss\\n\")\n",
    "    for image, prediction in zip(converted_images, predictions):\n",
    "        csv_file.write(os.path.basename(image))\n",
    "        for accuracy in prediction:\n",
    "            csv_file.write(f\",{accuracy}\")\n",
    "\n",
    "        csv_file.write(\"\\n\")"
   ],
   "id": "99bf229ddbcfc5ba",
   "outputs": [],
   "execution_count": null
  }
 ],
 "metadata": {
  "kernelspec": {
   "display_name": "Python 3",
   "language": "python",
   "name": "python3"
  },
  "language_info": {
   "codemirror_mode": {
    "name": "ipython",
    "version": 2
   },
   "file_extension": ".py",
   "mimetype": "text/x-python",
   "name": "python",
   "nbconvert_exporter": "python",
   "pygments_lexer": "ipython2",
   "version": "2.7.6"
  }
 },
 "nbformat": 4,
 "nbformat_minor": 5
}
